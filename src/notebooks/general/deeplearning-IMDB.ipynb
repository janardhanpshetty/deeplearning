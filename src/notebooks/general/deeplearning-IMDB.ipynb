{
 "cells": [
  {
   "cell_type": "code",
   "execution_count": 1,
   "metadata": {
    "collapsed": false
   },
   "outputs": [
    {
     "name": "stderr",
     "output_type": "stream",
     "text": [
      "Using TensorFlow backend.\n"
     ]
    }
   ],
   "source": [
    "from keras import backend"
   ]
  },
  {
   "cell_type": "code",
   "execution_count": 2,
   "metadata": {
    "collapsed": false
   },
   "outputs": [
    {
     "name": "stderr",
     "output_type": "stream",
     "text": [
      "/Users/jshetty/anaconda2/envs/Ipython/lib/python2.7/site-packages/sklearn/cross_validation.py:44: DeprecationWarning: This module was deprecated in version 0.18 in favor of the model_selection module into which all the refactored classes and functions are moved. Also note that the interface of the new CV iterators are different from that of this module. This module will be removed in 0.20.\n",
      "  \"This module will be removed in 0.20.\", DeprecationWarning)\n"
     ]
    }
   ],
   "source": [
    "from keras.preprocessing.text import Tokenizer\n",
    "from keras.preprocessing import sequence\n",
    "from keras.preprocessing.sequence import pad_sequences\n",
    "from keras.layers.embeddings import Embedding\n",
    "from keras.models import Sequential\n",
    "from keras.layers.core import Dense, Dropout\n",
    "from keras.layers.recurrent import LSTM\n",
    "from keras.datasets import imdb\n",
    "\n",
    "\n",
    "import pandas as pd\n",
    "import numpy as np\n",
    "\n",
    "from sklearn.preprocessing import LabelEncoder\n",
    "from sklearn.cross_validation import train_test_split"
   ]
  },
  {
   "cell_type": "code",
   "execution_count": 3,
   "metadata": {
    "collapsed": false
   },
   "outputs": [],
   "source": [
    "# Set seed\n",
    "seed = 7\n",
    "np.random.seed()"
   ]
  },
  {
   "cell_type": "code",
   "execution_count": 5,
   "metadata": {
    "collapsed": true
   },
   "outputs": [],
   "source": [
    "MAX_FEATURES = 2000\n",
    "MAX_SEQUENCE_LENGTH = 30  # cut texts after this number of words (among top max_features most common words) = 30\n",
    "BATCH_SIZE = 32"
   ]
  },
  {
   "cell_type": "code",
   "execution_count": 7,
   "metadata": {
    "collapsed": false
   },
   "outputs": [
    {
     "name": "stdout",
     "output_type": "stream",
     "text": [
      "Downloading data from https://s3.amazonaws.com/text-datasets/imdb.pkl\n",
      "33202176/33213513 [============================>.] - ETA: 0s(20000, 'train sequences')\n",
      "(5000, 'test sequences')\n"
     ]
    }
   ],
   "source": [
    "(X_train, y_train), (X_test, y_test) = imdb.load_data(nb_words=MAX_FEATURES)\n",
    "print(len(X_train), 'train sequences')\n",
    "print(len(X_test), 'test sequences')"
   ]
  },
  {
   "cell_type": "code",
   "execution_count": 21,
   "metadata": {
    "collapsed": false
   },
   "outputs": [
    {
     "data": {
      "text/plain": [
       "array([[ 104,   76,    7, ...,  256,   82,    7],\n",
       "       [  93,    2,   27, ...,    5, 1324,    7],\n",
       "       [  35,   93,   18, ...,   28, 1872,   43],\n",
       "       ..., \n",
       "       [  86,   22,    6, ...,  546,    2,    7],\n",
       "       [  74,   41,    2, ...,   13, 1053,    7],\n",
       "       [   7,   22,   19, ...,   51,   91,    7]], dtype=int32)"
      ]
     },
     "execution_count": 21,
     "metadata": {},
     "output_type": "execute_result"
    }
   ],
   "source": [
    "X_train"
   ]
  },
  {
   "cell_type": "code",
   "execution_count": 8,
   "metadata": {
    "collapsed": false
   },
   "outputs": [
    {
     "name": "stdout",
     "output_type": "stream",
     "text": [
      "Pad sequences (samples x time)\n",
      "('X_train shape:', (20000, 30))\n",
      "('X_test shape:', (5000, 30))\n"
     ]
    }
   ],
   "source": [
    "print('Pad sequences (samples x time)')\n",
    "X_train = sequence.pad_sequences(X_train, maxlen=MAX_SEQUENCE_LENGTH)\n",
    "X_test = sequence.pad_sequences(X_test, maxlen=MAX_SEQUENCE_LENGTH)\n",
    "print('X_train shape:', X_train.shape)\n",
    "print('X_test shape:', X_test.shape)"
   ]
  },
  {
   "cell_type": "code",
   "execution_count": 14,
   "metadata": {
    "collapsed": false
   },
   "outputs": [
    {
     "name": "stdout",
     "output_type": "stream",
     "text": [
      "Build model...\n"
     ]
    }
   ],
   "source": [
    "print('Build model...')\n",
    "model = Sequential()\n",
    "model.add(Embedding(MAX_FEATURES, 128, input_length=MAX_SEQUENCE_LENGTH, dropout=0.2))\n",
    "model.add(LSTM(128, dropout_W=0.2, dropout_U=0.2))\n",
    "model.add(Dense(1, activation='sigmoid'))"
   ]
  },
  {
   "cell_type": "code",
   "execution_count": 15,
   "metadata": {
    "collapsed": false
   },
   "outputs": [],
   "source": [
    "model.compile(loss='binary_crossentropy',\n",
    "              optimizer='adam',\n",
    "              metrics=['accuracy'])"
   ]
  },
  {
   "cell_type": "code",
   "execution_count": 8,
   "metadata": {
    "collapsed": false
   },
   "outputs": [
    {
     "name": "stdout",
     "output_type": "stream",
     "text": [
      "Shape of Train Data (70,1) data points\n",
      "Shape of Test Data (31,1) data points\n"
     ]
    }
   ],
   "source": [
    "# Split into train and test\n",
    "test_size=0.3\n",
    "seed=42\n",
    "X_train, X_test, train_label, test_label = train_test_split(text, label_encoded_y, test_size=test_size, random_state=seed)\n",
    "# Info about train and test\n",
    "print(\"Shape of Train Data (%d,%d) data points\" % X_train.shape)\n",
    "print(\"Shape of Test Data (%d,%d) data points\" % X_test.shape)\n"
   ]
  },
  {
   "cell_type": "code",
   "execution_count": 17,
   "metadata": {
    "collapsed": false
   },
   "outputs": [
    {
     "name": "stdout",
     "output_type": "stream",
     "text": [
      "Train...\n"
     ]
    },
    {
     "name": "stderr",
     "output_type": "stream",
     "text": [
      "/Users/jshetty/anaconda2/envs/Ipython/lib/python2.7/site-packages/tensorflow/python/ops/gradients.py:90: UserWarning: Converting sparse IndexedSlices to a dense Tensor of unknown shape. This may consume a large amount of memory.\n",
      "  \"Converting sparse IndexedSlices to a dense Tensor of unknown shape. \"\n"
     ]
    },
    {
     "name": "stdout",
     "output_type": "stream",
     "text": [
      "Train on 20000 samples, validate on 5000 samples\n",
      "Epoch 1/15\n",
      "20000/20000 [==============================] - 83s - loss: 0.5888 - acc: 0.6794 - val_loss: 0.5091 - val_acc: 0.7484\n",
      "Epoch 2/15\n",
      "20000/20000 [==============================] - 91s - loss: 0.5087 - acc: 0.7464 - val_loss: 0.4876 - val_acc: 0.7622\n",
      "Epoch 3/15\n",
      "20000/20000 [==============================] - 86s - loss: 0.4814 - acc: 0.7626 - val_loss: 0.4823 - val_acc: 0.7592\n",
      "Epoch 4/15\n",
      "20000/20000 [==============================] - 78s - loss: 0.4622 - acc: 0.7745 - val_loss: 0.4857 - val_acc: 0.7566\n",
      "Epoch 5/15\n",
      "20000/20000 [==============================] - 84s - loss: 0.4402 - acc: 0.7901 - val_loss: 0.5055 - val_acc: 0.7540\n",
      "Epoch 6/15\n",
      "20000/20000 [==============================] - 79s - loss: 0.4234 - acc: 0.7986 - val_loss: 0.4954 - val_acc: 0.7642\n",
      "Epoch 7/15\n",
      "20000/20000 [==============================] - 81s - loss: 0.4105 - acc: 0.8050 - val_loss: 0.4885 - val_acc: 0.7690\n",
      "Epoch 8/15\n",
      "20000/20000 [==============================] - 78s - loss: 0.3924 - acc: 0.8172 - val_loss: 0.4851 - val_acc: 0.7696\n",
      "Epoch 9/15\n",
      "20000/20000 [==============================] - 83s - loss: 0.3851 - acc: 0.8208 - val_loss: 0.5025 - val_acc: 0.7632\n",
      "Epoch 10/15\n",
      "20000/20000 [==============================] - 75s - loss: 0.3704 - acc: 0.8302 - val_loss: 0.5067 - val_acc: 0.7602\n",
      "Epoch 11/15\n",
      "20000/20000 [==============================] - 78s - loss: 0.3609 - acc: 0.8372 - val_loss: 0.5011 - val_acc: 0.7604\n",
      "Epoch 12/15\n",
      "20000/20000 [==============================] - 78s - loss: 0.3510 - acc: 0.8416 - val_loss: 0.5376 - val_acc: 0.7556\n",
      "Epoch 13/15\n",
      "20000/20000 [==============================] - 75s - loss: 0.3365 - acc: 0.8482 - val_loss: 0.5411 - val_acc: 0.7546\n",
      "Epoch 14/15\n",
      "20000/20000 [==============================] - 78s - loss: 0.3255 - acc: 0.8543 - val_loss: 0.5449 - val_acc: 0.7570\n",
      "Epoch 15/15\n",
      "20000/20000 [==============================] - 80s - loss: 0.3216 - acc: 0.8563 - val_loss: 0.5454 - val_acc: 0.7532\n"
     ]
    },
    {
     "data": {
      "text/plain": [
       "<keras.callbacks.History at 0x11306f8d0>"
      ]
     },
     "execution_count": 17,
     "metadata": {},
     "output_type": "execute_result"
    }
   ],
   "source": [
    "print('Train...')\n",
    "model.fit(X_train, train_label, batch_size=BATCH_SIZE, nb_epoch=15, validation_data=(X_test, y_test))"
   ]
  },
  {
   "cell_type": "code",
   "execution_count": 19,
   "metadata": {
    "collapsed": false
   },
   "outputs": [
    {
     "name": "stdout",
     "output_type": "stream",
     "text": [
      "5000/5000 [==============================] - 5s     \n",
      "('Test score:', 0.54536915750503545)\n",
      "('Test accuracy:', 0.75319999999999998)\n"
     ]
    }
   ],
   "source": [
    "score, acc = model.evaluate(X_test, y_test,\n",
    "                            batch_size=BATCH_SIZE)\n",
    "print('Test score:', score)\n",
    "print('Test accuracy:', acc)"
   ]
  },
  {
   "cell_type": "code",
   "execution_count": null,
   "metadata": {
    "collapsed": true
   },
   "outputs": [],
   "source": []
  }
 ],
 "metadata": {
  "anaconda-cloud": {},
  "kernelspec": {
   "display_name": "Python [conda env:Ipython]",
   "language": "python",
   "name": "conda-env-Ipython-py"
  },
  "language_info": {
   "codemirror_mode": {
    "name": "ipython",
    "version": 2
   },
   "file_extension": ".py",
   "mimetype": "text/x-python",
   "name": "python",
   "nbconvert_exporter": "python",
   "pygments_lexer": "ipython2",
   "version": "2.7.12"
  }
 },
 "nbformat": 4,
 "nbformat_minor": 0
}
